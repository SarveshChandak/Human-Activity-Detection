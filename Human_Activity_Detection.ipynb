{
  "cells": [
    {
      "cell_type": "markdown",
      "metadata": {
        "id": "_kN7lYHlPb26"
      },
      "source": [
        "###Team Members: \n",
        "###Harikishan Takoor - 20BAI1297\n",
        "###Sarvesh Chandak - 20BAI1221"
      ]
    },
    {
      "cell_type": "markdown",
      "metadata": {
        "id": "ja3-ZTZjzxc4"
      },
      "source": [
        "# Download and Unzip Dataset "
      ]
    },
    {
      "cell_type": "code",
      "execution_count": null,
      "metadata": {
        "colab": {
          "base_uri": "https://localhost:8080/"
        },
        "id": "2U7CtWixFgmm",
        "outputId": "0d80d836-6024-425f-8288-97dc1ecac395"
      },
      "outputs": [
        {
          "name": "stdout",
          "output_type": "stream",
          "text": [
            "--2022-11-18 14:58:37--  https://docs.google.com/uc?export=download&confirm=t&id=1n-wc8ebopNacuTNdtGrkn7A7r7UOjBj7\n",
            "Resolving docs.google.com (docs.google.com)... 108.177.119.101, 108.177.119.100, 108.177.119.113, ...\n",
            "Connecting to docs.google.com (docs.google.com)|108.177.119.101|:443... connected.\n",
            "HTTP request sent, awaiting response... 303 See Other\n",
            "Location: https://doc-0s-20-docs.googleusercontent.com/docs/securesc/ha0ro937gcuc7l7deffksulhg5h7mbp1/gg98i2bec6knpigg4mv1cvvr3vi02pqa/1668783450000/14323669513596321114/*/1n-wc8ebopNacuTNdtGrkn7A7r7UOjBj7?e=download&uuid=b3bd9b4b-75e3-42b9-bdf9-3b79660b3d05 [following]\n",
            "Warning: wildcards not supported in HTTP.\n",
            "--2022-11-18 14:58:37--  https://doc-0s-20-docs.googleusercontent.com/docs/securesc/ha0ro937gcuc7l7deffksulhg5h7mbp1/gg98i2bec6knpigg4mv1cvvr3vi02pqa/1668783450000/14323669513596321114/*/1n-wc8ebopNacuTNdtGrkn7A7r7UOjBj7?e=download&uuid=b3bd9b4b-75e3-42b9-bdf9-3b79660b3d05\n",
            "Resolving doc-0s-20-docs.googleusercontent.com (doc-0s-20-docs.googleusercontent.com)... 142.250.145.132, 2a00:1450:4013:c14::84\n",
            "Connecting to doc-0s-20-docs.googleusercontent.com (doc-0s-20-docs.googleusercontent.com)|142.250.145.132|:443... connected.\n",
            "HTTP request sent, awaiting response... 200 OK\n",
            "Length: 800754894 (764M) [application/zip]\n",
            "Saving to: ‘Dataset.zip’\n",
            "\n",
            "Dataset.zip         100%[===================>] 763.66M  60.5MB/s    in 12s     \n",
            "\n",
            "2022-11-18 14:58:50 (61.8 MB/s) - ‘Dataset.zip’ saved [800754894/800754894]\n",
            "\n"
          ]
        }
      ],
      "source": [
        "!wget --load-cookies /tmp/cookies.txt \"https://docs.google.com/uc?export=download&confirm=$(wget --quiet --save-cookies /tmp/cookies.txt --keep-session-cookies --no-check-certificate 'https://docs.google.com/uc?export=download&id=1n-wc8ebopNacuTNdtGrkn7A7r7UOjBj7' -O- | sed -rn 's/.*confirm=([0-9A-Za-z_]+).*/\\1\\n/p')&id=1n-wc8ebopNacuTNdtGrkn7A7r7UOjBj7\" -O Dataset.zip && rm -rf /tmp/cookies.txt"
      ]
    },
    {
      "cell_type": "code",
      "execution_count": null,
      "metadata": {
        "colab": {
          "base_uri": "https://localhost:8080/"
        },
        "id": "A543jsfeagkd",
        "outputId": "4c4c58a3-4d20-4a93-f3ab-642e93c8246e"
      },
      "outputs": [
        {
          "name": "stdout",
          "output_type": "stream",
          "text": [
            "Archive:  Dataset.zip\n",
            "   creating: Dataset/\n",
            "   creating: Dataset/walking/\n",
            "  inflating: Dataset/walking/person01_walking_d1_uncomp.avi  \n",
            "  inflating: Dataset/walking/person01_walking_d2_uncomp.avi  \n",
            "  inflating: Dataset/walking/person01_walking_d3_uncomp.avi  \n",
            "  inflating: Dataset/walking/person01_walking_d4_uncomp.avi  \n",
            "  inflating: Dataset/walking/person02_walking_d1_uncomp.avi  \n",
            "  inflating: Dataset/walking/person02_walking_d2_uncomp.avi  \n",
            "  inflating: Dataset/walking/person02_walking_d3_uncomp.avi  \n",
            "  inflating: Dataset/walking/person02_walking_d4_uncomp.avi  \n",
            "  inflating: Dataset/walking/person03_walking_d1_uncomp.avi  \n",
            "  inflating: Dataset/walking/person03_walking_d2_uncomp.avi  \n",
            "  inflating: Dataset/walking/person03_walking_d3_uncomp.avi  \n",
            "  inflating: Dataset/walking/person03_walking_d4_uncomp.avi  \n",
            "  inflating: Dataset/walking/person04_walking_d1_uncomp.avi  \n",
            "  inflating: Dataset/walking/person04_walking_d2_uncomp.avi  \n",
            "  inflating: Dataset/walking/person04_walking_d3_uncomp.avi  \n",
            "  inflating: Dataset/walking/person04_walking_d4_uncomp.avi  \n",
            "  inflating: Dataset/walking/person05_walking_d1_uncomp.avi  \n",
            "  inflating: Dataset/walking/person05_walking_d2_uncomp.avi  \n",
            "  inflating: Dataset/walking/person05_walking_d3_uncomp.avi  \n",
            "  inflating: Dataset/walking/person05_walking_d4_uncomp.avi  \n",
            "  inflating: Dataset/walking/person06_walking_d1_uncomp.avi  \n",
            "  inflating: Dataset/walking/person06_walking_d2_uncomp.avi  \n",
            "  inflating: Dataset/walking/person06_walking_d3_uncomp.avi  \n",
            "  inflating: Dataset/walking/person06_walking_d4_uncomp.avi  \n",
            "  inflating: Dataset/walking/person07_walking_d1_uncomp.avi  \n",
            "  inflating: Dataset/walking/person07_walking_d2_uncomp.avi  \n",
            "  inflating: Dataset/walking/person07_walking_d3_uncomp.avi  \n",
            "  inflating: Dataset/walking/person07_walking_d4_uncomp.avi  \n",
            "  inflating: Dataset/walking/person08_walking_d1_uncomp.avi  \n",
            "  inflating: Dataset/walking/person08_walking_d2_uncomp.avi  \n",
            "  inflating: Dataset/walking/person08_walking_d3_uncomp.avi  \n",
            "  inflating: Dataset/walking/person08_walking_d4_uncomp.avi  \n",
            "  inflating: Dataset/walking/person09_walking_d1_uncomp.avi  \n",
            "  inflating: Dataset/walking/person09_walking_d2_uncomp.avi  \n",
            "  inflating: Dataset/walking/person09_walking_d3_uncomp.avi  \n",
            "  inflating: Dataset/walking/person09_walking_d4_uncomp.avi  \n",
            "  inflating: Dataset/walking/person10_walking_d1_uncomp.avi  \n",
            "  inflating: Dataset/walking/person10_walking_d2_uncomp.avi  \n",
            "  inflating: Dataset/walking/person10_walking_d3_uncomp.avi  \n",
            "  inflating: Dataset/walking/person10_walking_d4_uncomp.avi  \n",
            "  inflating: Dataset/walking/person11_walking_d1_uncomp.avi  \n",
            "  inflating: Dataset/walking/person11_walking_d2_uncomp.avi  \n",
            "  inflating: Dataset/walking/person11_walking_d3_uncomp.avi  \n",
            "  inflating: Dataset/walking/person11_walking_d4_uncomp.avi  \n",
            "  inflating: Dataset/walking/person12_walking_d1_uncomp.avi  \n",
            "  inflating: Dataset/walking/person12_walking_d2_uncomp.avi  \n",
            "  inflating: Dataset/walking/person12_walking_d3_uncomp.avi  \n",
            "  inflating: Dataset/walking/person12_walking_d4_uncomp.avi  \n",
            "  inflating: Dataset/walking/person13_walking_d1_uncomp.avi  \n",
            "  inflating: Dataset/walking/person13_walking_d2_uncomp.avi  \n",
            "  inflating: Dataset/walking/person13_walking_d3_uncomp.avi  \n",
            "  inflating: Dataset/walking/person13_walking_d4_uncomp.avi  \n",
            "  inflating: Dataset/walking/person14_walking_d1_uncomp.avi  \n",
            "  inflating: Dataset/walking/person14_walking_d2_uncomp.avi  \n",
            "  inflating: Dataset/walking/person14_walking_d3_uncomp.avi  \n",
            "  inflating: Dataset/walking/person14_walking_d4_uncomp.avi  \n",
            "  inflating: Dataset/walking/person15_walking_d1_uncomp.avi  \n",
            "  inflating: Dataset/walking/person15_walking_d2_uncomp.avi  \n",
            "  inflating: Dataset/walking/person15_walking_d3_uncomp.avi  \n",
            "  inflating: Dataset/walking/person15_walking_d4_uncomp.avi  \n",
            "  inflating: Dataset/walking/person16_walking_d1_uncomp.avi  \n",
            "  inflating: Dataset/walking/person16_walking_d2_uncomp.avi  \n",
            "  inflating: Dataset/walking/person16_walking_d3_uncomp.avi  \n",
            "  inflating: Dataset/walking/person16_walking_d4_uncomp.avi  \n",
            "  inflating: Dataset/walking/person17_walking_d1_uncomp.avi  \n",
            "  inflating: Dataset/walking/person17_walking_d2_uncomp.avi  \n",
            "  inflating: Dataset/walking/person17_walking_d3_uncomp.avi  \n",
            "  inflating: Dataset/walking/person17_walking_d4_uncomp.avi  \n",
            "  inflating: Dataset/walking/person18_walking_d1_uncomp.avi  \n",
            "  inflating: Dataset/walking/person18_walking_d2_uncomp.avi  \n",
            "  inflating: Dataset/walking/person18_walking_d3_uncomp.avi  \n",
            "  inflating: Dataset/walking/person18_walking_d4_uncomp.avi  \n",
            "  inflating: Dataset/walking/person19_walking_d1_uncomp.avi  \n",
            "  inflating: Dataset/walking/person19_walking_d2_uncomp.avi  \n",
            "  inflating: Dataset/walking/person19_walking_d3_uncomp.avi  \n",
            "  inflating: Dataset/walking/person19_walking_d4_uncomp.avi  \n",
            "  inflating: Dataset/walking/person20_walking_d1_uncomp.avi  \n",
            "  inflating: Dataset/walking/person20_walking_d2_uncomp.avi  \n",
            "  inflating: Dataset/walking/person20_walking_d3_uncomp.avi  \n",
            "  inflating: Dataset/walking/person20_walking_d4_uncomp.avi  \n",
            "  inflating: Dataset/walking/person21_walking_d1_uncomp.avi  \n",
            "  inflating: Dataset/walking/person21_walking_d2_uncomp.avi  \n",
            "  inflating: Dataset/walking/person21_walking_d3_uncomp.avi  \n",
            "  inflating: Dataset/walking/person21_walking_d4_uncomp.avi  \n",
            "  inflating: Dataset/walking/person22_walking_d1_uncomp.avi  \n",
            "  inflating: Dataset/walking/person22_walking_d2_uncomp.avi  \n",
            "  inflating: Dataset/walking/person22_walking_d3_uncomp.avi  \n",
            "  inflating: Dataset/walking/person22_walking_d4_uncomp.avi  \n",
            "  inflating: Dataset/walking/person23_walking_d1_uncomp.avi  \n",
            "  inflating: Dataset/walking/person23_walking_d2_uncomp.avi  \n",
            "  inflating: Dataset/walking/person23_walking_d3_uncomp.avi  \n",
            "  inflating: Dataset/walking/person23_walking_d4_uncomp.avi  \n",
            "  inflating: Dataset/walking/person24_walking_d1_uncomp.avi  \n",
            "  inflating: Dataset/walking/person24_walking_d2_uncomp.avi  \n",
            "  inflating: Dataset/walking/person24_walking_d3_uncomp.avi  \n",
            "  inflating: Dataset/walking/person24_walking_d4_uncomp.avi  \n",
            "  inflating: Dataset/walking/person25_walking_d1_uncomp.avi  \n",
            "  inflating: Dataset/walking/person25_walking_d2_uncomp.avi  \n",
            "  inflating: Dataset/walking/person25_walking_d3_uncomp.avi  \n",
            "  inflating: Dataset/walking/person25_walking_d4_uncomp.avi  \n",
            "   creating: Dataset/fights/\n",
            "  inflating: Dataset/fights/newfi1.avi  \n",
            "  inflating: Dataset/fights/newfi10.avi  \n",
            "  inflating: Dataset/fights/newfi100.avi  \n",
            "  inflating: Dataset/fights/newfi11.avi  \n",
            "  inflating: Dataset/fights/newfi12.avi  \n",
            "  inflating: Dataset/fights/newfi13.avi  \n",
            "  inflating: Dataset/fights/newfi14.avi  \n",
            "  inflating: Dataset/fights/newfi15.avi  \n",
            "  inflating: Dataset/fights/newfi16.avi  \n",
            "  inflating: Dataset/fights/newfi17.avi  \n",
            "  inflating: Dataset/fights/newfi18.avi  \n",
            "  inflating: Dataset/fights/newfi19.avi  \n",
            "  inflating: Dataset/fights/newfi2.avi  \n",
            "  inflating: Dataset/fights/newfi20.avi  \n",
            "  inflating: Dataset/fights/newfi21.avi  \n",
            "  inflating: Dataset/fights/newfi22.avi  \n",
            "  inflating: Dataset/fights/newfi23.avi  \n",
            "  inflating: Dataset/fights/newfi24.avi  \n",
            "  inflating: Dataset/fights/newfi25.avi  \n",
            "  inflating: Dataset/fights/newfi26.avi  \n",
            "  inflating: Dataset/fights/newfi27.avi  \n",
            "  inflating: Dataset/fights/newfi28.avi  \n",
            "  inflating: Dataset/fights/newfi29.avi  \n",
            "  inflating: Dataset/fights/newfi3.avi  \n",
            "  inflating: Dataset/fights/newfi30.avi  \n",
            "  inflating: Dataset/fights/newfi31.avi  \n",
            "  inflating: Dataset/fights/newfi32.avi  \n",
            "  inflating: Dataset/fights/newfi33.avi  \n",
            "  inflating: Dataset/fights/newfi34.avi  \n",
            "  inflating: Dataset/fights/newfi35.avi  \n",
            "  inflating: Dataset/fights/newfi36.avi  \n",
            "  inflating: Dataset/fights/newfi37.avi  \n",
            "  inflating: Dataset/fights/newfi38.avi  \n",
            "  inflating: Dataset/fights/newfi39.avi  \n",
            "  inflating: Dataset/fights/newfi4.avi  \n",
            "  inflating: Dataset/fights/newfi40.avi  \n",
            "  inflating: Dataset/fights/newfi41.avi  \n",
            "  inflating: Dataset/fights/newfi42.avi  \n",
            "  inflating: Dataset/fights/newfi43.avi  \n",
            "  inflating: Dataset/fights/newfi44.avi  \n",
            "  inflating: Dataset/fights/newfi45.avi  \n",
            "  inflating: Dataset/fights/newfi46.avi  \n",
            "  inflating: Dataset/fights/newfi47.avi  \n",
            "  inflating: Dataset/fights/newfi48.avi  \n",
            "  inflating: Dataset/fights/newfi49.avi  \n",
            "  inflating: Dataset/fights/newfi5.avi  \n",
            "  inflating: Dataset/fights/newfi50.avi  \n",
            "  inflating: Dataset/fights/newfi51.avi  \n",
            "  inflating: Dataset/fights/newfi52.avi  \n",
            "  inflating: Dataset/fights/newfi53.avi  \n",
            "  inflating: Dataset/fights/newfi54.avi  \n",
            "  inflating: Dataset/fights/newfi55.avi  \n",
            "  inflating: Dataset/fights/newfi56.avi  \n",
            "  inflating: Dataset/fights/newfi57.avi  \n",
            "  inflating: Dataset/fights/newfi58.avi  \n",
            "  inflating: Dataset/fights/newfi59.avi  \n",
            "  inflating: Dataset/fights/newfi6.avi  \n",
            "  inflating: Dataset/fights/newfi60.avi  \n",
            "  inflating: Dataset/fights/newfi61.avi  \n",
            "  inflating: Dataset/fights/newfi62.avi  \n",
            "  inflating: Dataset/fights/newfi63.avi  \n",
            "  inflating: Dataset/fights/newfi64.avi  \n",
            "  inflating: Dataset/fights/newfi65.avi  \n",
            "  inflating: Dataset/fights/newfi66.avi  \n",
            "  inflating: Dataset/fights/newfi67.avi  \n",
            "  inflating: Dataset/fights/newfi68.avi  \n",
            "  inflating: Dataset/fights/newfi69.avi  \n",
            "  inflating: Dataset/fights/newfi7.avi  \n",
            "  inflating: Dataset/fights/newfi70.avi  \n",
            "  inflating: Dataset/fights/newfi71.avi  \n",
            "  inflating: Dataset/fights/newfi72.avi  \n",
            "  inflating: Dataset/fights/newfi73.avi  \n",
            "  inflating: Dataset/fights/newfi74avi.avi  \n",
            "  inflating: Dataset/fights/newfi75.avi  \n",
            "  inflating: Dataset/fights/newfi76.avi  \n",
            "  inflating: Dataset/fights/newfi77.avi  \n",
            "  inflating: Dataset/fights/newfi78.avi  \n",
            "  inflating: Dataset/fights/newfi79.avi  \n",
            "  inflating: Dataset/fights/newfi8.avi  \n",
            "  inflating: Dataset/fights/newfi80.avi  \n",
            "  inflating: Dataset/fights/newfi81.avi  \n",
            "  inflating: Dataset/fights/newfi82.avi  \n",
            "  inflating: Dataset/fights/newfi83.avi  \n",
            "  inflating: Dataset/fights/newfi84.avi  \n",
            "  inflating: Dataset/fights/newfi85.avi  \n",
            "  inflating: Dataset/fights/newfi86.avi  \n",
            "  inflating: Dataset/fights/newfi87.avi  \n",
            "  inflating: Dataset/fights/newfi88.avi  \n",
            "  inflating: Dataset/fights/newfi89.avi  \n",
            "  inflating: Dataset/fights/newfi9.avi  \n",
            "  inflating: Dataset/fights/newfi90.avi  \n",
            "  inflating: Dataset/fights/newfi91.avi  \n",
            "  inflating: Dataset/fights/newfi92.avi  \n",
            "  inflating: Dataset/fights/newfi93.avi  \n",
            "  inflating: Dataset/fights/newfi94.avi  \n",
            "  inflating: Dataset/fights/newfi95.avi  \n",
            "  inflating: Dataset/fights/newfi96.avi  \n",
            "  inflating: Dataset/fights/newfi97.avi  \n",
            "  inflating: Dataset/fights/newfi98.avi  \n",
            "  inflating: Dataset/fights/newfi99.avi  \n",
            "   creating: Dataset/running/\n",
            "  inflating: Dataset/running/person01_running_d1_uncomp.avi  \n",
            "  inflating: Dataset/running/person01_running_d2_uncomp.avi  \n",
            "  inflating: Dataset/running/person01_running_d3_uncomp.avi  \n",
            "  inflating: Dataset/running/person01_running_d4_uncomp.avi  \n",
            "  inflating: Dataset/running/person02_running_d1_uncomp.avi  \n",
            "  inflating: Dataset/running/person02_running_d2_uncomp.avi  \n",
            "  inflating: Dataset/running/person02_running_d3_uncomp.avi  \n",
            "  inflating: Dataset/running/person02_running_d4_uncomp.avi  \n",
            "  inflating: Dataset/running/person03_running_d1_uncomp.avi  \n",
            "  inflating: Dataset/running/person03_running_d2_uncomp.avi  \n",
            "  inflating: Dataset/running/person03_running_d3_uncomp.avi  \n",
            "  inflating: Dataset/running/person03_running_d4_uncomp.avi  \n",
            "  inflating: Dataset/running/person04_running_d1_uncomp.avi  \n",
            "  inflating: Dataset/running/person04_running_d2_uncomp.avi  \n",
            "  inflating: Dataset/running/person04_running_d3_uncomp.avi  \n",
            "  inflating: Dataset/running/person04_running_d4_uncomp.avi  \n",
            "  inflating: Dataset/running/person05_running_d1_uncomp.avi  \n",
            "  inflating: Dataset/running/person05_running_d2_uncomp.avi  \n",
            "  inflating: Dataset/running/person05_running_d3_uncomp.avi  \n",
            "  inflating: Dataset/running/person05_running_d4_uncomp.avi  \n",
            "  inflating: Dataset/running/person06_running_d1_uncomp.avi  \n",
            "  inflating: Dataset/running/person06_running_d2_uncomp.avi  \n",
            "  inflating: Dataset/running/person06_running_d3_uncomp.avi  \n",
            "  inflating: Dataset/running/person06_running_d4_uncomp.avi  \n",
            "  inflating: Dataset/running/person07_running_d1_uncomp.avi  \n",
            "  inflating: Dataset/running/person07_running_d2_uncomp.avi  \n",
            "  inflating: Dataset/running/person07_running_d3_uncomp.avi  \n",
            "  inflating: Dataset/running/person07_running_d4_uncomp.avi  \n",
            "  inflating: Dataset/running/person08_running_d1_uncomp.avi  \n",
            "  inflating: Dataset/running/person08_running_d2_uncomp.avi  \n",
            "  inflating: Dataset/running/person08_running_d3_uncomp.avi  \n",
            "  inflating: Dataset/running/person08_running_d4_uncomp.avi  \n",
            "  inflating: Dataset/running/person09_running_d1_uncomp.avi  \n",
            "  inflating: Dataset/running/person09_running_d2_uncomp.avi  \n",
            "  inflating: Dataset/running/person09_running_d3_uncomp.avi  \n",
            "  inflating: Dataset/running/person09_running_d4_uncomp.avi  \n",
            "  inflating: Dataset/running/person10_running_d1_uncomp.avi  \n",
            "  inflating: Dataset/running/person10_running_d2_uncomp.avi  \n",
            "  inflating: Dataset/running/person10_running_d3_uncomp.avi  \n",
            "  inflating: Dataset/running/person10_running_d4_uncomp.avi  \n",
            "  inflating: Dataset/running/person11_running_d1_uncomp.avi  \n",
            "  inflating: Dataset/running/person11_running_d2_uncomp.avi  \n",
            "  inflating: Dataset/running/person11_running_d3_uncomp.avi  \n",
            "  inflating: Dataset/running/person11_running_d4_uncomp.avi  \n",
            "  inflating: Dataset/running/person12_running_d1_uncomp.avi  \n",
            "  inflating: Dataset/running/person12_running_d2_uncomp.avi  \n",
            "  inflating: Dataset/running/person12_running_d3_uncomp.avi  \n",
            "  inflating: Dataset/running/person12_running_d4_uncomp.avi  \n",
            "  inflating: Dataset/running/person13_running_d1_uncomp.avi  \n",
            "  inflating: Dataset/running/person13_running_d2_uncomp.avi  \n",
            "  inflating: Dataset/running/person13_running_d3_uncomp.avi  \n",
            "  inflating: Dataset/running/person13_running_d4_uncomp.avi  \n",
            "  inflating: Dataset/running/person14_running_d1_uncomp.avi  \n",
            "  inflating: Dataset/running/person14_running_d2_uncomp.avi  \n",
            "  inflating: Dataset/running/person14_running_d3_uncomp.avi  \n",
            "  inflating: Dataset/running/person14_running_d4_uncomp.avi  \n",
            "  inflating: Dataset/running/person15_running_d1_uncomp.avi  \n",
            "  inflating: Dataset/running/person15_running_d2_uncomp.avi  \n",
            "  inflating: Dataset/running/person15_running_d3_uncomp.avi  \n",
            "  inflating: Dataset/running/person15_running_d4_uncomp.avi  \n",
            "  inflating: Dataset/running/person16_running_d1_uncomp.avi  \n",
            "  inflating: Dataset/running/person16_running_d2_uncomp.avi  \n",
            "  inflating: Dataset/running/person16_running_d3_uncomp.avi  \n",
            "  inflating: Dataset/running/person16_running_d4_uncomp.avi  \n",
            "  inflating: Dataset/running/person17_running_d1_uncomp.avi  \n",
            "  inflating: Dataset/running/person17_running_d2_uncomp.avi  \n",
            "  inflating: Dataset/running/person17_running_d3_uncomp.avi  \n",
            "  inflating: Dataset/running/person17_running_d4_uncomp.avi  \n",
            "  inflating: Dataset/running/person18_running_d1_uncomp.avi  \n",
            "  inflating: Dataset/running/person18_running_d2_uncomp.avi  \n",
            "  inflating: Dataset/running/person18_running_d3_uncomp.avi  \n",
            "  inflating: Dataset/running/person18_running_d4_uncomp.avi  \n",
            "  inflating: Dataset/running/person19_running_d1_uncomp.avi  \n",
            "  inflating: Dataset/running/person19_running_d2_uncomp.avi  \n",
            "  inflating: Dataset/running/person19_running_d3_uncomp.avi  \n",
            "  inflating: Dataset/running/person19_running_d4_uncomp.avi  \n",
            "  inflating: Dataset/running/person20_running_d1_uncomp.avi  \n",
            "  inflating: Dataset/running/person20_running_d2_uncomp.avi  \n",
            "  inflating: Dataset/running/person20_running_d3_uncomp.avi  \n",
            "  inflating: Dataset/running/person20_running_d4_uncomp.avi  \n",
            "  inflating: Dataset/running/person21_running_d1_uncomp.avi  \n",
            "  inflating: Dataset/running/person21_running_d2_uncomp.avi  \n",
            "  inflating: Dataset/running/person21_running_d3_uncomp.avi  \n",
            "  inflating: Dataset/running/person21_running_d4_uncomp.avi  \n",
            "  inflating: Dataset/running/person22_running_d1_uncomp.avi  \n",
            "  inflating: Dataset/running/person22_running_d2_uncomp.avi  \n",
            "  inflating: Dataset/running/person22_running_d3_uncomp.avi  \n",
            "  inflating: Dataset/running/person22_running_d4_uncomp.avi  \n",
            "  inflating: Dataset/running/person23_running_d1_uncomp.avi  \n",
            "  inflating: Dataset/running/person23_running_d2_uncomp.avi  \n",
            "  inflating: Dataset/running/person23_running_d3_uncomp.avi  \n",
            "  inflating: Dataset/running/person23_running_d4_uncomp.avi  \n",
            "  inflating: Dataset/running/person24_running_d1_uncomp.avi  \n",
            "  inflating: Dataset/running/person24_running_d2_uncomp.avi  \n",
            "  inflating: Dataset/running/person24_running_d3_uncomp.avi  \n",
            "  inflating: Dataset/running/person24_running_d4_uncomp.avi  \n",
            "  inflating: Dataset/running/person25_running_d1_uncomp.avi  \n",
            "  inflating: Dataset/running/person25_running_d2_uncomp.avi  \n",
            "  inflating: Dataset/running/person25_running_d3_uncomp.avi  \n",
            "  inflating: Dataset/running/person25_running_d4_uncomp.avi  \n"
          ]
        }
      ],
      "source": [
        "!unzip Dataset.zip"
      ]
    },
    {
      "cell_type": "markdown",
      "metadata": {
        "id": "jDWe_XtA0B7j"
      },
      "source": [
        "# Import Required Libraries"
      ]
    },
    {
      "cell_type": "code",
      "execution_count": null,
      "metadata": {
        "colab": {
          "base_uri": "https://localhost:8080/"
        },
        "id": "-f8PrAGtddkN",
        "outputId": "e29c812b-de36-4952-911a-02fab9b32d9f"
      },
      "outputs": [
        {
          "name": "stdout",
          "output_type": "stream",
          "text": [
            "Looking in indexes: https://pypi.org/simple, https://us-python.pkg.dev/colab-wheels/public/simple/\n",
            "Collecting pafy\n",
            "  Downloading pafy-0.5.5-py2.py3-none-any.whl (35 kB)\n",
            "Collecting youtube-dl\n",
            "  Downloading youtube_dl-2021.12.17-py2.py3-none-any.whl (1.9 MB)\n",
            "\u001b[K     |████████████████████████████████| 1.9 MB 28.2 MB/s \n",
            "\u001b[?25hRequirement already satisfied: moviepy in /usr/local/lib/python3.7/dist-packages (0.2.3.5)\n",
            "Requirement already satisfied: imageio<3.0,>=2.1.2 in /usr/local/lib/python3.7/dist-packages (from moviepy) (2.9.0)\n",
            "Requirement already satisfied: numpy in /usr/local/lib/python3.7/dist-packages (from moviepy) (1.21.6)\n",
            "Requirement already satisfied: tqdm<5.0,>=4.11.2 in /usr/local/lib/python3.7/dist-packages (from moviepy) (4.64.1)\n",
            "Requirement already satisfied: decorator<5.0,>=4.0.2 in /usr/local/lib/python3.7/dist-packages (from moviepy) (4.4.2)\n",
            "Requirement already satisfied: pillow in /usr/local/lib/python3.7/dist-packages (from imageio<3.0,>=2.1.2->moviepy) (7.1.2)\n",
            "Installing collected packages: youtube-dl, pafy\n",
            "Successfully installed pafy-0.5.5 youtube-dl-2021.12.17\n"
          ]
        }
      ],
      "source": [
        "!pip install pafy youtube-dl moviepy"
      ]
    },
    {
      "cell_type": "code",
      "execution_count": null,
      "metadata": {
        "id": "3hUbtID2V-0n"
      },
      "outputs": [],
      "source": [
        "import os\n",
        "import cv2\n",
        "import pafy\n",
        "import math\n",
        "import random\n",
        "import numpy as np\n",
        "import datetime as dt\n",
        "import tensorflow as tf\n",
        "from collections import deque\n",
        "import matplotlib.pyplot as plt\n",
        "\n",
        "%matplotlib inline\n",
        "\n",
        "from sklearn.model_selection import train_test_split\n",
        "\n",
        "from tensorflow.keras.layers import *\n",
        "from tensorflow.keras.models import Sequential\n",
        "from tensorflow.keras.utils import to_categorical\n",
        "from tensorflow.keras.callbacks import EarlyStopping\n",
        "from tensorflow.keras.utils import plot_model"
      ]
    },
    {
      "cell_type": "markdown",
      "metadata": {
        "id": "55NoiM9v0QmM"
      },
      "source": [
        "# Select Randomness"
      ]
    },
    {
      "cell_type": "code",
      "execution_count": null,
      "metadata": {
        "id": "hO-5AOkvV_AH"
      },
      "outputs": [],
      "source": [
        "seed_constant = 5\n",
        "# np.random.seed(seed_constant)\n",
        "# random.seed(seed_constant)\n",
        "# tf.random.set_seed(seed_constant)"
      ]
    },
    {
      "cell_type": "markdown",
      "metadata": {
        "id": "YB-nCGLd0WPV"
      },
      "source": [
        "# View the dataset"
      ]
    },
    {
      "cell_type": "code",
      "execution_count": null,
      "metadata": {
        "colab": {
          "base_uri": "https://localhost:8080/",
          "height": 218
        },
        "id": "y_TK72NWdvxR",
        "outputId": "6a6a9c1b-4ec7-47c3-8e8a-4c2f321ddc04"
      },
      "outputs": [
        {
          "data": {
            "image/png": "[encoded data removed]",
            "text/plain": [
              "<Figure size 1440x1440 with 3 Axes>"
            ]
          },
          "metadata": {},
          "output_type": "display_data"
        }
      ],
      "source": [
        "# Create a Matplotlib figure and specify the size of the figure.\n",
        "plt.figure(figsize = (20, 20))\n",
        " \n",
        "# Get the names of all classes/categories in UCF50.\n",
        "all_classes_names = os.listdir('Dataset')\n",
        "\n",
        "# Iterating through all the generated random values.\n",
        "for counter, random_index in enumerate(range(len(all_classes_names)), 1):\n",
        " \n",
        "    # Retrieve a Class Name using the Random Index.\n",
        "    selected_class_Name = all_classes_names[random_index]\n",
        " \n",
        "    # Retrieve the list of all the video files present in the selected Class Directory.\n",
        "    video_files_names_list = os.listdir(f'Dataset/{selected_class_Name}')\n",
        " \n",
        "    # Randomly select a video file from the list retrieved from the randomly selected Class Directory.\n",
        "    selected_video_file_name = random.choice(video_files_names_list)\n",
        " \n",
        "    # Initialize a VideoCapture object to read from the video File.\n",
        "    video_reader = cv2.VideoCapture(f'Dataset/{selected_class_Name}/{selected_video_file_name}')\n",
        "    video_reader.set(1, 25)\n",
        "\n",
        "    # Read the first frame of the video file.\n",
        "    _, bgr_frame = video_reader.read()\n",
        "  \n",
        "    bgr_frame = cv2.resize(bgr_frame ,(224,224))\n",
        "    # Release the VideoCapture object. \n",
        "    video_reader.release()\n",
        " \n",
        "    # Convert the frame from BGR into RGB format. \n",
        "    rgb_frame = cv2.cvtColor(bgr_frame, cv2.COLOR_BGR2RGB)\n",
        "    \n",
        "    # Display the frame.\n",
        "    plt.subplot(5, 4, counter);plt.imshow(rgb_frame);plt.axis('off')\n"
      ]
    },
    {
      "cell_type": "markdown",
      "metadata": {
        "id": "aW-7xQ-70dtG"
      },
      "source": [
        "# Set Dataset Variables"
      ]
    },
    {
      "cell_type": "code",
      "execution_count": null,
      "metadata": {
        "id": "4QiuLPH7V_Cv"
      },
      "outputs": [],
      "source": [
        "# Specify the height and width to which each video frame will be resized in our dataset.\n",
        "IMAGE_HEIGHT , IMAGE_WIDTH = 64, 64\n",
        " \n",
        "# Specify the number of frames of a video that will be fed to the model as one sequence.\n",
        "SEQUENCE_LENGTH = 30\n",
        " \n",
        "# Specify the directory containing the UCF50 dataset. \n",
        "DATASET_DIR = \"Dataset\"\n",
        " \n",
        "# Specify the list containing the names of the classes used for training. Feel free to choose any set of classes.\n",
        "CLASSES_LIST = [\"walking\", \"fights\", \"running\"]"
      ]
    },
    {
      "cell_type": "markdown",
      "metadata": {
        "id": "WtHuYy7L0kGE"
      },
      "source": [
        "# Data pre-processing"
      ]
    },
    {
      "cell_type": "code",
      "execution_count": null,
      "metadata": {
        "id": "-uEafCSTV_FI"
      },
      "outputs": [],
      "source": [
        "def frames_extraction(video_path):\n",
        "    '''\n",
        "    This function will extract the required frames from a video after resizing and normalizing them.\n",
        "    Args:\n",
        "        video_path: The path of the video in the disk, whose frames are to be extracted.\n",
        "    Returns:\n",
        "        frames_list: A list containing the resized and normalized frames of the video.\n",
        "    '''\n",
        "\n",
        "    # Declare a list to store video frames.\n",
        "    frames_list = []\n",
        "    \n",
        "    # Read the Video File using the VideoCapture object.\n",
        "    video_reader = cv2.VideoCapture(video_path)\n",
        "\n",
        "    # Get the total number of frames in the video.\n",
        "    video_frames_count = int(video_reader.get(cv2.CAP_PROP_FRAME_COUNT))\n",
        "\n",
        "    # Calculate the the interval after which frames will be added to the list.\n",
        "    skip_frames_window = max(int(video_frames_count/SEQUENCE_LENGTH), 1)\n",
        "\n",
        "    # Iterate through the Video Frames.\n",
        "    for frame_counter in range(SEQUENCE_LENGTH):\n",
        "\n",
        "        # Set the current frame position of the video.\n",
        "        video_reader.set(cv2.CAP_PROP_POS_FRAMES, frame_counter * skip_frames_window)\n",
        "\n",
        "        # Reading the frame from the video. \n",
        "        success, frame = video_reader.read() \n",
        "\n",
        "        # Check if Video frame is not successfully read then break the loop\n",
        "        if not success:\n",
        "            break\n",
        "\n",
        "        # Resize the Frame to fixed height and width.\n",
        "        resized_frame = cv2.resize(frame, (IMAGE_HEIGHT, IMAGE_WIDTH))\n",
        "        \n",
        "        # Normalize the resized frame by dividing it with 255 so that each pixel value then lies between 0 and 1\n",
        "        normalized_frame = resized_frame / 255\n",
        "        \n",
        "        # Append the normalized frame into the frames list\n",
        "        frames_list.append(normalized_frame)\n",
        "    \n",
        "    # Release the VideoCapture object. \n",
        "    video_reader.release()\n",
        "\n",
        "    # Return the frames list.\n",
        "    return frames_list"
      ]
    },
    {
      "cell_type": "code",
      "execution_count": null,
      "metadata": {
        "id": "DPbui8IYV_H7"
      },
      "outputs": [],
      "source": [
        "def create_dataset():\n",
        "    '''\n",
        "    This function will extract the data of the selected classes and create the required dataset.\n",
        "    Returns:\n",
        "        features:          A list containing the extracted frames of the videos.\n",
        "        labels:            A list containing the indexes of the classes associated with the videos.\n",
        "        video_files_paths: A list containing the paths of the videos in the disk.\n",
        "    '''\n",
        "\n",
        "    # Declared Empty Lists to store the features, labels and video file path values.\n",
        "    features = []\n",
        "    labels = []\n",
        "    video_files_paths = []\n",
        "    \n",
        "    # Iterating through all the classes mentioned in the classes list\n",
        "    for class_index, class_name in enumerate(CLASSES_LIST):\n",
        "        \n",
        "        # Display the name of the class whose data is being extracted.\n",
        "        print(f'Extracting Data of Class: {class_name}')\n",
        "        \n",
        "        # Get the list of video files present in the specific class name directory.\n",
        "        files_list = os.listdir(os.path.join(DATASET_DIR, class_name))\n",
        "        \n",
        "        # Iterate through all the files present in the files list.\n",
        "        for file_name in files_list:\n",
        "            \n",
        "            # Get the complete video path.\n",
        "            video_file_path = os.path.join(DATASET_DIR, class_name, file_name)\n",
        "\n",
        "            # Extract the frames of the video file.\n",
        "            frames = frames_extraction(video_file_path)\n",
        "\n",
        "            # Check if the extracted frames are equal to the SEQUENCE_LENGTH specified above.\n",
        "            # So ignore the vides having frames less than the SEQUENCE_LENGTH.\n",
        "            if len(frames) == SEQUENCE_LENGTH:\n",
        "\n",
        "                # Append the data to their repective lists.\n",
        "                features.append(frames)\n",
        "                labels.append(class_index)\n",
        "                video_files_paths.append(video_file_path)\n",
        "\n",
        "    # Converting the list to numpy arrays\n",
        "    features = np.asarray(features)\n",
        "    labels = np.array(labels)  \n",
        "    \n",
        "    # Return the frames, class index, and video file path.\n",
        "    return features, labels, video_files_paths"
      ]
    },
    {
      "cell_type": "code",
      "execution_count": null,
      "metadata": {
        "colab": {
          "background_save": true,
          "base_uri": "https://localhost:8080/"
        },
        "id": "C86DPCideSGy",
        "outputId": "bdcf3876-e706-46bd-985b-6d32c0068b59"
      },
      "outputs": [
        {
          "name": "stdout",
          "output_type": "stream",
          "text": [
            "Extracting Data of Class: walking\n",
            "Extracting Data of Class: fights\n",
            "Extracting Data of Class: running\n"
          ]
        }
      ],
      "source": [
        "# Create the dataset.\n",
        "features, labels, video_files_paths = create_dataset()"
      ]
    },
    {
      "cell_type": "code",
      "execution_count": null,
      "metadata": {
        "colab": {
          "background_save": true
        },
        "id": "969jqyd2-U9e",
        "outputId": "0f6e526d-c2f9-4568-978a-7094a0407763"
      },
      "outputs": [
        {
          "name": "stdout",
          "output_type": "stream",
          "text": [
            "(300, 30, 64, 64, 3) (300,)\n"
          ]
        }
      ],
      "source": [
        "# Returns shape of features & labels\n",
        "print(features.shape, labels.shape)"
      ]
    },
    {
      "cell_type": "code",
      "execution_count": null,
      "metadata": {
        "colab": {
          "background_save": true
        },
        "id": "nhOmYDOQeWH_"
      },
      "outputs": [],
      "source": [
        "# Using Keras's to_categorical method to convert labels into one-hot-encoded vectors\n",
        "one_hot_encoded_labels = to_categorical(labels)"
      ]
    },
    {
      "cell_type": "code",
      "execution_count": null,
      "metadata": {
        "colab": {
          "background_save": true
        },
        "id": "kjUSud2geWMd"
      },
      "outputs": [],
      "source": [
        "# Split the Data into Train ( 75% ) and Test Set ( 25% ).\n",
        "features_train, features_test, labels_train, labels_test = train_test_split(features, one_hot_encoded_labels, test_size = 0.25, shuffle = True, random_state = seed_constant)\n",
        "features = None\n",
        "labels = None"
      ]
    },
    {
      "cell_type": "markdown",
      "metadata": {
        "id": "6_Nex-Rg0z2o"
      },
      "source": [
        "# Model Creation LRCN (Long-term Recurrent Convolutional Network)\n",
        "### LRCN is combination of CNN and LSTM. It is suitable for large-scale visual understanding tasks such as activity detection. LRCN processes the variable-length visual input with a CNN. Their output are fed into a stack of recurrent sequence models (LSTM). The final output from the LSTM is a vaiable-length prediction. This makes LRCN proper model to handle tasks with time-varying inputs and output."
      ]
    },
    {
      "cell_type": "code",
      "execution_count": null,
      "metadata": {
        "colab": {
          "background_save": true
        },
        "id": "cnNbiJ5KeWYw"
      },
      "outputs": [],
      "source": [
        "def create_LRCN_model():\n",
        "    '''\n",
        "    This function will construct the required LRCN model.\n",
        "    Returns:\n",
        "        model: It is the required constructed LRCN model.\n",
        "    '''\n",
        "\n",
        "    # We will use a Sequential model for model construction.\n",
        "    model = Sequential()\n",
        "    \n",
        "    # Define the Model Architecture.\n",
        "    ########################################################################################################################\n",
        "    \n",
        "    model.add(TimeDistributed(Conv2D(32, (3, 3), padding='same',activation = 'relu'), input_shape = (SEQUENCE_LENGTH, IMAGE_HEIGHT, IMAGE_WIDTH, 3)))\n",
        "    model.add(TimeDistributed(MaxPooling2D((4, 4))))\n",
        "    \n",
        "    model.add(TimeDistributed(Conv2D(64, (3, 3), padding='same',activation = 'relu')))\n",
        "    model.add(TimeDistributed(MaxPooling2D((4, 4))))\n",
        "    \n",
        "    model.add(TimeDistributed(Conv2D(128, (3, 3), padding='same',activation = 'relu')))\n",
        "    model.add(TimeDistributed(MaxPooling2D((2, 2))))\n",
        "    \n",
        "    model.add(TimeDistributed(Conv2D(256, (2, 2), padding='same',activation = 'relu')))\n",
        "    model.add(TimeDistributed(MaxPooling2D((2, 2))))\n",
        "                                      \n",
        "    model.add(TimeDistributed(Flatten()))\n",
        "                                      \n",
        "    model.add(LSTM(32))\n",
        "                                      \n",
        "    model.add(Dense(len(CLASSES_LIST), activation = 'softmax'))\n",
        "\n",
        "    ########################################################################################################################\n",
        "\n",
        "    # Display the models summary.\n",
        "    model.summary()\n",
        "    \n",
        "    # Return the constructed LRCN model.\n",
        "    return model"
      ]
    },
    {
      "cell_type": "code",
      "execution_count": null,
      "metadata": {
        "colab": {
          "background_save": true
        },
        "id": "5KK0kWm9Z4J6",
        "outputId": "c272c8dd-800e-4615-eff3-f3ce8e51e7e2"
      },
      "outputs": [
        {
          "name": "stdout",
          "output_type": "stream",
          "text": [
            "Model: \"sequential\"\n",
            "_________________________________________________________________\n",
            " Layer (type)                Output Shape              Param #   \n",
            "=================================================================\n",
            " time_distributed (TimeDistr  (None, 30, 64, 64, 32)   896       \n",
            " ibuted)                                                         \n",
            "                                                                 \n",
            " time_distributed_1 (TimeDis  (None, 30, 16, 16, 32)   0         \n",
            " tributed)                                                       \n",
            "                                                                 \n",
            " time_distributed_2 (TimeDis  (None, 30, 16, 16, 64)   18496     \n",
            " tributed)                                                       \n",
            "                                                                 \n",
            " time_distributed_3 (TimeDis  (None, 30, 4, 4, 64)     0         \n",
            " tributed)                                                       \n",
            "                                                                 \n",
            " time_distributed_4 (TimeDis  (None, 30, 4, 4, 128)    73856     \n",
            " tributed)                                                       \n",
            "                                                                 \n",
            " time_distributed_5 (TimeDis  (None, 30, 2, 2, 128)    0         \n",
            " tributed)                                                       \n",
            "                                                                 \n",
            " time_distributed_6 (TimeDis  (None, 30, 2, 2, 256)    131328    \n",
            " tributed)                                                       \n",
            "                                                                 \n",
            " time_distributed_7 (TimeDis  (None, 30, 1, 1, 256)    0         \n",
            " tributed)                                                       \n",
            "                                                                 \n",
            " time_distributed_8 (TimeDis  (None, 30, 256)          0         \n",
            " tributed)                                                       \n",
            "                                                                 \n",
            " lstm (LSTM)                 (None, 32)                36992     \n",
            "                                                                 \n",
            " dense (Dense)               (None, 3)                 99        \n",
            "                                                                 \n",
            "=================================================================\n",
            "Total params: 261,667\n",
            "Trainable params: 261,667\n",
            "Non-trainable params: 0\n",
            "_________________________________________________________________\n"
          ]
        }
      ],
      "source": [
        "model = create_LRCN_model()"
      ]
    },
    {
      "cell_type": "markdown",
      "metadata": {
        "id": "Y4dSrbiO1CW5"
      },
      "source": [
        "# Model Training"
      ]
    },
    {
      "cell_type": "code",
      "execution_count": null,
      "metadata": {
        "colab": {
          "background_save": true
        },
        "id": "KiiaFf74eWeX",
        "outputId": "5bb5f575-dd06-40cf-aefb-30f72017197c"
      },
      "outputs": [
        {
          "name": "stdout",
          "output_type": "stream",
          "text": [
            "Epoch 1/70\n",
            "42/42 [==============================] - 11s 34ms/step - loss: 0.7431 - accuracy: 0.5952 - val_loss: 0.7554 - val_accuracy: 0.6316\n",
            "Epoch 2/70\n",
            "42/42 [==============================] - 1s 15ms/step - loss: 0.5968 - accuracy: 0.6548 - val_loss: 0.4520 - val_accuracy: 0.7018\n",
            "Epoch 3/70\n",
            "42/42 [==============================] - 1s 15ms/step - loss: 0.4882 - accuracy: 0.6548 - val_loss: 0.4173 - val_accuracy: 0.7719\n",
            "Epoch 4/70\n",
            "42/42 [==============================] - 1s 15ms/step - loss: 0.4786 - accuracy: 0.7083 - val_loss: 0.4216 - val_accuracy: 0.7018\n",
            "Epoch 5/70\n",
            "42/42 [==============================] - 1s 15ms/step - loss: 0.4425 - accuracy: 0.7560 - val_loss: 0.3674 - val_accuracy: 0.8246\n",
            "Epoch 6/70\n",
            "42/42 [==============================] - 1s 15ms/step - loss: 0.4237 - accuracy: 0.8036 - val_loss: 0.3531 - val_accuracy: 0.8421\n",
            "Epoch 7/70\n",
            "42/42 [==============================] - 1s 15ms/step - loss: 0.4808 - accuracy: 0.7202 - val_loss: 0.4036 - val_accuracy: 0.7368\n",
            "Epoch 8/70\n",
            "42/42 [==============================] - 1s 16ms/step - loss: 0.3973 - accuracy: 0.8036 - val_loss: 0.3535 - val_accuracy: 0.8246\n",
            "Epoch 9/70\n",
            "42/42 [==============================] - 1s 15ms/step - loss: 0.4953 - accuracy: 0.7857 - val_loss: 1.5054 - val_accuracy: 0.4211\n",
            "Epoch 10/70\n",
            "42/42 [==============================] - 1s 15ms/step - loss: 0.6524 - accuracy: 0.6548 - val_loss: 0.4688 - val_accuracy: 0.7544\n",
            "Epoch 11/70\n",
            "42/42 [==============================] - 1s 15ms/step - loss: 0.5054 - accuracy: 0.7440 - val_loss: 0.4366 - val_accuracy: 0.7895\n",
            "Epoch 12/70\n",
            "42/42 [==============================] - 1s 15ms/step - loss: 0.4202 - accuracy: 0.8214 - val_loss: 0.3796 - val_accuracy: 0.8421\n",
            "Epoch 13/70\n",
            "42/42 [==============================] - 1s 15ms/step - loss: 0.3768 - accuracy: 0.8452 - val_loss: 0.3715 - val_accuracy: 0.8070\n",
            "Epoch 14/70\n",
            "42/42 [==============================] - 1s 15ms/step - loss: 0.3542 - accuracy: 0.8512 - val_loss: 0.4608 - val_accuracy: 0.7544\n",
            "Epoch 15/70\n",
            "42/42 [==============================] - 1s 15ms/step - loss: 0.3601 - accuracy: 0.8631 - val_loss: 0.3612 - val_accuracy: 0.8596\n",
            "Epoch 16/70\n",
            "42/42 [==============================] - 1s 15ms/step - loss: 0.3403 - accuracy: 0.8631 - val_loss: 0.3308 - val_accuracy: 0.8421\n",
            "Epoch 17/70\n",
            "42/42 [==============================] - 1s 15ms/step - loss: 0.3133 - accuracy: 0.8512 - val_loss: 0.3403 - val_accuracy: 0.8596\n",
            "Epoch 18/70\n",
            "42/42 [==============================] - 1s 15ms/step - loss: 0.3208 - accuracy: 0.8512 - val_loss: 0.3320 - val_accuracy: 0.8596\n",
            "Epoch 19/70\n",
            "42/42 [==============================] - 1s 16ms/step - loss: 0.3105 - accuracy: 0.8690 - val_loss: 0.3169 - val_accuracy: 0.8772\n",
            "Epoch 20/70\n",
            "42/42 [==============================] - 1s 16ms/step - loss: 0.3096 - accuracy: 0.8810 - val_loss: 0.3256 - val_accuracy: 0.8070\n",
            "Epoch 21/70\n",
            "42/42 [==============================] - 1s 15ms/step - loss: 0.2592 - accuracy: 0.9107 - val_loss: 0.3290 - val_accuracy: 0.8246\n",
            "Epoch 22/70\n",
            "42/42 [==============================] - 1s 16ms/step - loss: 0.2545 - accuracy: 0.9107 - val_loss: 0.3532 - val_accuracy: 0.8421\n",
            "Epoch 23/70\n",
            "42/42 [==============================] - 1s 15ms/step - loss: 0.2953 - accuracy: 0.8631 - val_loss: 0.3195 - val_accuracy: 0.8421\n",
            "Epoch 24/70\n",
            "42/42 [==============================] - 1s 15ms/step - loss: 0.2747 - accuracy: 0.8869 - val_loss: 0.3469 - val_accuracy: 0.8596\n",
            "Epoch 25/70\n",
            "42/42 [==============================] - 1s 15ms/step - loss: 0.2742 - accuracy: 0.8810 - val_loss: 0.3272 - val_accuracy: 0.8070\n",
            "Epoch 26/70\n",
            "42/42 [==============================] - 1s 15ms/step - loss: 0.2278 - accuracy: 0.9286 - val_loss: 0.3738 - val_accuracy: 0.7895\n",
            "Epoch 27/70\n",
            "42/42 [==============================] - 1s 15ms/step - loss: 0.2483 - accuracy: 0.8869 - val_loss: 0.2944 - val_accuracy: 0.8596\n",
            "Epoch 28/70\n",
            "42/42 [==============================] - 1s 15ms/step - loss: 0.2261 - accuracy: 0.9286 - val_loss: 0.3534 - val_accuracy: 0.8421\n",
            "Epoch 29/70\n",
            "42/42 [==============================] - 1s 15ms/step - loss: 0.2236 - accuracy: 0.9286 - val_loss: 0.3278 - val_accuracy: 0.8596\n",
            "Epoch 30/70\n",
            "42/42 [==============================] - 1s 15ms/step - loss: 0.2062 - accuracy: 0.9226 - val_loss: 0.3014 - val_accuracy: 0.8772\n",
            "Epoch 31/70\n",
            "42/42 [==============================] - 1s 15ms/step - loss: 0.2482 - accuracy: 0.8988 - val_loss: 0.3096 - val_accuracy: 0.8070\n",
            "Epoch 32/70\n",
            "42/42 [==============================] - 1s 15ms/step - loss: 0.2131 - accuracy: 0.9345 - val_loss: 0.2632 - val_accuracy: 0.8772\n",
            "Epoch 33/70\n",
            "42/42 [==============================] - 1s 15ms/step - loss: 0.1830 - accuracy: 0.9048 - val_loss: 0.3404 - val_accuracy: 0.8596\n",
            "Epoch 34/70\n",
            "42/42 [==============================] - 1s 15ms/step - loss: 0.1313 - accuracy: 0.9702 - val_loss: 0.3790 - val_accuracy: 0.8421\n",
            "Epoch 35/70\n",
            "42/42 [==============================] - 1s 15ms/step - loss: 0.2290 - accuracy: 0.9048 - val_loss: 0.3551 - val_accuracy: 0.8246\n",
            "Epoch 36/70\n",
            "42/42 [==============================] - 1s 15ms/step - loss: 0.2873 - accuracy: 0.8810 - val_loss: 0.3556 - val_accuracy: 0.8596\n",
            "Epoch 37/70\n",
            "42/42 [==============================] - 1s 15ms/step - loss: 0.1892 - accuracy: 0.9345 - val_loss: 0.3275 - val_accuracy: 0.8421\n",
            "Epoch 38/70\n",
            "42/42 [==============================] - 1s 15ms/step - loss: 0.1582 - accuracy: 0.9464 - val_loss: 0.4472 - val_accuracy: 0.8070\n",
            "Epoch 39/70\n",
            "42/42 [==============================] - 1s 15ms/step - loss: 0.1607 - accuracy: 0.9464 - val_loss: 0.3531 - val_accuracy: 0.8421\n",
            "Epoch 40/70\n",
            "42/42 [==============================] - 1s 15ms/step - loss: 0.1208 - accuracy: 0.9821 - val_loss: 0.3327 - val_accuracy: 0.8246\n",
            "Epoch 41/70\n",
            "42/42 [==============================] - 1s 15ms/step - loss: 0.0994 - accuracy: 0.9821 - val_loss: 0.3294 - val_accuracy: 0.8421\n",
            "Epoch 42/70\n",
            "42/42 [==============================] - 1s 15ms/step - loss: 0.0935 - accuracy: 0.9702 - val_loss: 0.3313 - val_accuracy: 0.8772\n",
            "Epoch 43/70\n",
            "42/42 [==============================] - 1s 15ms/step - loss: 0.1488 - accuracy: 0.9226 - val_loss: 0.4552 - val_accuracy: 0.7368\n",
            "Epoch 44/70\n",
            "42/42 [==============================] - 1s 15ms/step - loss: 0.3438 - accuracy: 0.8452 - val_loss: 0.4148 - val_accuracy: 0.8421\n",
            "Epoch 45/70\n",
            "42/42 [==============================] - 1s 16ms/step - loss: 0.2171 - accuracy: 0.9107 - val_loss: 0.3952 - val_accuracy: 0.8596\n",
            "Epoch 46/70\n",
            "42/42 [==============================] - 1s 15ms/step - loss: 0.1322 - accuracy: 0.9583 - val_loss: 0.3683 - val_accuracy: 0.8596\n",
            "Epoch 47/70\n",
            "42/42 [==============================] - 1s 16ms/step - loss: 0.0927 - accuracy: 0.9762 - val_loss: 0.3853 - val_accuracy: 0.8596\n",
            "Epoch 48/70\n",
            "42/42 [==============================] - 1s 15ms/step - loss: 0.0910 - accuracy: 0.9702 - val_loss: 0.4766 - val_accuracy: 0.8421\n",
            "Epoch 49/70\n",
            "42/42 [==============================] - 1s 15ms/step - loss: 0.0710 - accuracy: 0.9821 - val_loss: 0.4666 - val_accuracy: 0.8070\n",
            "Epoch 50/70\n",
            "42/42 [==============================] - 1s 15ms/step - loss: 0.1311 - accuracy: 0.9583 - val_loss: 0.4547 - val_accuracy: 0.8947\n"
          ]
        }
      ],
      "source": [
        "# Create an Instance of Early Stopping Callback.\n",
        "early_stopping_callback = EarlyStopping(monitor = 'accuracy', patience = 10, mode = 'max', restore_best_weights = True)\n",
        " \n",
        "# Compile the model and specify loss function, optimizer and metrics to the model.\n",
        "model.compile(loss = 'categorical_crossentropy', optimizer = 'Adam', metrics = [\"accuracy\"])\n",
        " \n",
        "# Start training the model.\n",
        "model_training_history = model.fit(x = features_train, y = labels_train, epochs = 70, batch_size = 4 , shuffle = True, validation_split = 0.25, callbacks = [early_stopping_callback])"
      ]
    },
    {
      "cell_type": "markdown",
      "metadata": {
        "id": "3e8OwJjr74u7"
      },
      "source": [
        "# Save Model"
      ]
    },
    {
      "cell_type": "code",
      "execution_count": null,
      "metadata": {
        "colab": {
          "background_save": true
        },
        "id": "y24PBRpFOAOI"
      },
      "outputs": [],
      "source": [
        "# Save your Model.\n",
        "model.save(\"Suspicious_Human_Activity_Detection_LRCN_Model.h5\")"
      ]
    },
    {
      "cell_type": "markdown",
      "metadata": {
        "id": "z8PGComY8HRr"
      },
      "source": [
        "# Plot Loss and Accuracy Graphs while Training"
      ]
    },
    {
      "cell_type": "code",
      "execution_count": null,
      "metadata": {
        "colab": {
          "background_save": true
        },
        "id": "2ZWFLxJj4u7m"
      },
      "outputs": [],
      "source": [
        "def plot_metric(model_training_history, metric_name_1, metric_name_2, plot_name):\n",
        "    '''\n",
        "    This function will plot the metrics passed to it in a graph.\n",
        "    Args:\n",
        "        model_training_history: A history object containing a record of training and validation \n",
        "                                loss values and metrics values at successive epochs\n",
        "        metric_name_1:          The name of the first metric that needs to be plotted in the graph.\n",
        "        metric_name_2:          The name of the second metric that needs to be plotted in the graph.\n",
        "        plot_name:              The title of the graph.\n",
        "    '''\n",
        "    \n",
        "    # Get metric values using metric names as identifiers.\n",
        "    metric_value_1 = model_training_history.history[metric_name_1]\n",
        "    metric_value_2 = model_training_history.history[metric_name_2]\n",
        "    \n",
        "    # Construct a range object which will be used as x-axis (horizontal plane) of the graph.\n",
        "    epochs = range(len(metric_value_1))\n",
        " \n",
        "    # Plot the Graph.\n",
        "    plt.plot(epochs, metric_value_1, 'blue', label = metric_name_1)\n",
        "    plt.plot(epochs, metric_value_2, 'red', label = metric_name_2)\n",
        " \n",
        "    # Add title to the plot.\n",
        "    plt.title(str(plot_name))\n",
        " \n",
        "    # Add legend to the plot.\n",
        "    plt.legend()"
      ]
    },
    {
      "cell_type": "code",
      "execution_count": null,
      "metadata": {
        "colab": {
          "background_save": true
        },
        "id": "aS258jrN4vBt",
        "outputId": "c8ff4ce1-7088-495e-fb38-4bb78e3a25d6"
      },
      "outputs": [
        {
          "data": {
            "image/png": "[encoded data removed]",
            "text/plain": [
              "<Figure size 432x288 with 1 Axes>"
            ]
          },
          "metadata": {},
          "output_type": "display_data"
        }
      ],
      "source": [
        "plot_metric(model_training_history, 'loss', 'val_loss', 'Total Loss vs Total Validation Loss')"
      ]
    },
    {
      "cell_type": "code",
      "execution_count": null,
      "metadata": {
        "colab": {
          "background_save": true
        },
        "id": "d1lqRrY06h9D",
        "outputId": "714a281e-243b-4953-a847-c6e87c63077e"
      },
      "outputs": [
        {
          "data": {
            "image/png": "[encoded data removed]",
            "text/plain": [
              "<Figure size 432x288 with 1 Axes>"
            ]
          },
          "metadata": {},
          "output_type": "display_data"
        }
      ],
      "source": [
        "plot_metric(model_training_history, 'accuracy', 'val_accuracy', 'Total Accuracy vs Total Validation Accuracy')"
      ]
    },
    {
      "cell_type": "markdown",
      "metadata": {
        "id": "nJtqRfDkJv5M"
      },
      "source": [
        "# Accuracy on Test Dataset"
      ]
    },
    {
      "cell_type": "code",
      "execution_count": null,
      "metadata": {
        "colab": {
          "background_save": true
        },
        "id": "1NSAB2PXBnzX",
        "outputId": "1f4266a2-ba54-4443-fbc0-2816350a0052"
      },
      "outputs": [
        {
          "name": "stdout",
          "output_type": "stream",
          "text": [
            "1/1 [==============================] - 0s 412ms/step\n",
            "1/1 [==============================] - 0s 15ms/step\n",
            "1/1 [==============================] - 0s 17ms/step\n",
            "1/1 [==============================] - 0s 16ms/step\n",
            "1/1 [==============================] - 0s 17ms/step\n",
            "1/1 [==============================] - 0s 14ms/step\n",
            "1/1 [==============================] - 0s 18ms/step\n",
            "1/1 [==============================] - 0s 17ms/step\n",
            "1/1 [==============================] - 0s 18ms/step\n",
            "1/1 [==============================] - 0s 16ms/step\n",
            "1/1 [==============================] - 0s 15ms/step\n",
            "1/1 [==============================] - 0s 15ms/step\n",
            "1/1 [==============================] - 0s 17ms/step\n",
            "1/1 [==============================] - 0s 16ms/step\n",
            "1/1 [==============================] - 0s 17ms/step\n",
            "1/1 [==============================] - 0s 17ms/step\n",
            "1/1 [==============================] - 0s 17ms/step\n",
            "1/1 [==============================] - 0s 16ms/step\n",
            "1/1 [==============================] - 0s 18ms/step\n",
            "1/1 [==============================] - 0s 17ms/step\n",
            "1/1 [==============================] - 0s 17ms/step\n",
            "1/1 [==============================] - 0s 17ms/step\n",
            "1/1 [==============================] - 0s 16ms/step\n",
            "1/1 [==============================] - 0s 17ms/step\n",
            "1/1 [==============================] - 0s 17ms/step\n",
            "1/1 [==============================] - 0s 17ms/step\n",
            "1/1 [==============================] - 0s 18ms/step\n",
            "1/1 [==============================] - 0s 17ms/step\n",
            "1/1 [==============================] - 0s 17ms/step\n",
            "1/1 [==============================] - 0s 18ms/step\n",
            "1/1 [==============================] - 0s 17ms/step\n",
            "1/1 [==============================] - 0s 16ms/step\n",
            "1/1 [==============================] - 0s 15ms/step\n",
            "1/1 [==============================] - 0s 17ms/step\n",
            "1/1 [==============================] - 0s 15ms/step\n",
            "1/1 [==============================] - 0s 16ms/step\n",
            "1/1 [==============================] - 0s 18ms/step\n",
            "1/1 [==============================] - 0s 18ms/step\n",
            "1/1 [==============================] - 0s 17ms/step\n",
            "1/1 [==============================] - 0s 16ms/step\n",
            "1/1 [==============================] - 0s 17ms/step\n",
            "1/1 [==============================] - 0s 18ms/step\n",
            "1/1 [==============================] - 0s 17ms/step\n",
            "1/1 [==============================] - 0s 18ms/step\n",
            "1/1 [==============================] - 0s 23ms/step\n",
            "1/1 [==============================] - 0s 18ms/step\n",
            "1/1 [==============================] - 0s 16ms/step\n",
            "1/1 [==============================] - 0s 15ms/step\n",
            "1/1 [==============================] - 0s 15ms/step\n",
            "1/1 [==============================] - 0s 19ms/step\n",
            "1/1 [==============================] - 0s 16ms/step\n",
            "1/1 [==============================] - 0s 16ms/step\n",
            "1/1 [==============================] - 0s 17ms/step\n",
            "1/1 [==============================] - 0s 17ms/step\n",
            "1/1 [==============================] - 0s 15ms/step\n",
            "1/1 [==============================] - 0s 15ms/step\n",
            "1/1 [==============================] - 0s 17ms/step\n",
            "1/1 [==============================] - 0s 15ms/step\n",
            "1/1 [==============================] - 0s 15ms/step\n",
            "1/1 [==============================] - 0s 18ms/step\n",
            "1/1 [==============================] - 0s 15ms/step\n",
            "1/1 [==============================] - 0s 17ms/step\n",
            "1/1 [==============================] - 0s 16ms/step\n",
            "1/1 [==============================] - 0s 15ms/step\n",
            "1/1 [==============================] - 0s 17ms/step\n",
            "1/1 [==============================] - 0s 15ms/step\n",
            "1/1 [==============================] - 0s 17ms/step\n",
            "1/1 [==============================] - 0s 15ms/step\n",
            "1/1 [==============================] - 0s 16ms/step\n",
            "1/1 [==============================] - 0s 15ms/step\n",
            "1/1 [==============================] - 0s 18ms/step\n",
            "1/1 [==============================] - 0s 18ms/step\n",
            "1/1 [==============================] - 0s 18ms/step\n",
            "1/1 [==============================] - 0s 17ms/step\n",
            "1/1 [==============================] - 0s 17ms/step\n",
            "Accuracy = 82.66666666666667\n"
          ]
        }
      ],
      "source": [
        "# Calculate Accuracy On Test Dataset\n",
        "acc = 0\n",
        "for i in range(len(features_test)):\n",
        "  predicted_label = np.argmax(model.predict(np.expand_dims(features_test[i],axis =0))[0])\n",
        "  actual_label = np.argmax(labels_test[i])\n",
        "  if predicted_label == actual_label:\n",
        "      acc += 1\n",
        "acc = (acc * 100)/len(labels_test)\n",
        "print(\"Accuracy =\",acc)"
      ]
    }
  ],
  "metadata": {
    "accelerator": "GPU",
    "colab": {
      "provenance": []
    },
    "gpuClass": "standard",
    "kernelspec": {
      "display_name": "Python 3",
      "language": "python",
      "name": "python3"
    },
    "language_info": {
      "codemirror_mode": {
        "name": "ipython",
        "version": 3
      },
      "file_extension": ".py",
      "mimetype": "text/x-python",
      "name": "python",
      "nbconvert_exporter": "python",
      "pygments_lexer": "ipython3",
      "version": "3.8.8"
    }
  },
  "nbformat": 4,
  "nbformat_minor": 0
}